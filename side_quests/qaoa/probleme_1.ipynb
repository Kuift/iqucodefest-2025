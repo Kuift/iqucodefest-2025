{
 "cells": [
  {
   "cell_type": "markdown",
   "metadata": {},
   "source": [
    "# Problem 1 : Bus Fleet"
   ]
  },
  {
   "cell_type": "markdown",
   "metadata": {},
   "source": [
    "# Import the necessary libraries\n",
    "\n",
    "The following cell holds all the necessary libraries to run this notebook.\n",
    "You can change this notebook as you please."
   ]
  },
  {
   "cell_type": "code",
   "execution_count": 50,
   "metadata": {
    "ExecuteTime": {
     "end_time": "2025-05-29T18:33:19.243167Z",
     "start_time": "2025-05-29T18:33:19.232898Z"
    }
   },
   "outputs": [],
   "source": [
    "# Visualization of the problem graph\n",
    "import matplotlib.pyplot as plt\n",
    "import networkx as nx\n",
    "\n",
    "# Matricial computation and calssical optimization\n",
    "import numpy as np\n",
    "from scipy.optimize import minimize\n",
    "\n",
    "# Creation of quantum circuits\n",
    "from qiskit import QuantumCircuit\n",
    "\n",
    "# Structure used to build Hamiltonians\n",
    "from qiskit.quantum_info import SparsePauliOp\n",
    "\n",
    "# Method used to create QAOA circuits to optimize\n",
    "from qiskit.circuit.library import QAOAAnsatz\n",
    "\n",
    "# Tools used for the execution of quantum circuits\n",
    "from qiskit_ibm_runtime import QiskitRuntimeService\n",
    "from qiskit_ibm_runtime import EstimatorV2 as Estimator\n",
    "from qiskit_ibm_runtime import SamplerV2 as Sampler\n",
    "\n",
    "# Transpilation of quantum circuits on IBM's simulators and quantum computers\n",
    "from qiskit.transpiler.preset_passmanagers import generate_preset_pass_manager\n",
    "\n",
    "# Quantum computer simulator\n",
    "from qiskit_aer import AerSimulator\n",
    "\n",
    "# Simulators of existing quantum computers\n",
    "from qiskit_ibm_runtime.fake_provider import FakeNairobiV2  # , FakeQuebec\n",
    "\n",
    "# Visualization of probablity distributions\n",
    "from qiskit.visualization import plot_histogram"
   ]
  },
  {
   "cell_type": "markdown",
   "metadata": {},
   "source": [
    "# Introduction\n",
    "\n",
    "The Société de Transport de Sherbrooke (STS) is facing an optimisation problem linked to the organization of the bus fleet deployed in town. We are presenting you a simplified case to experiment the resolution of a combinatorial optimization problem using the quantum alorithm called **QAOA**.\n",
    "\n",
    "## Problem statement\n",
    "\n",
    "> The STS wishes to add 5 buses each serving a different line, to accomodate the growing need felt by users for the morning departures of 08:00 am and 08:30. Given that some bus lines intersect, we want to organize the buses into 2 groups. Ideally, we want the buses serving the same stops to depart at different times as much as possible.\n",
    "\n",
    "To model this problem, we represent each bus by a node in a graph. An edge between two nodes represents the fact that the two buses serve at least one common stop.\n",
    "\n",
    "<p align=\"center\">\n",
    "<img src=\"figures/img_probleme_1.jpg\" alt=\"probleme 1\" width=\"150\"/>\n",
    "</p>\n",
    "\n",
    "The bus lines are represented as nodes in the graph while edges correspond to common stops.\n",
    "\n",
    "\n",
    "\n",
    "The two departure times, 08:00am and 08:30am, are identified by colors: orange (0) and indigo (1) respectively.\n",
    "\n",
    "<p align=\"center\">\n",
    "<img src=\"figures/graphe_partition.jpeg\" alt=\"probleme 1\" width=\"150\"/>\n",
    "</p>\n",
    "\n",
    "\n",
    "## MaxCut Problem\n",
    "When two bus lines with at least a common stop are partitioned by departure time, their corresponding edge is *cut*. A **cut** is the set of all cut edges. The cut containing the largest number of edges is the ***maximal cut*** (maxcut).\n",
    "\n",
    "<p align=\"center\">\n",
    "<img src=\"figures/graphe_coupe.jpeg\" alt=\"probleme 1\" width=\"150\"/>\n",
    "</p>\n",
    "\n",
    "## Encoding\n",
    "We define the departure time color of a bus by the variable $m_i$ where $i \\in S = \\{0,1,2,3,4\\}$.\n",
    "\n",
    "We will use the indices $\\{ 0,1,2,3,4\\}$ to represent the bus lines $\\{ 7, 12, 16, 11, 3\\}$, respectively.\n",
    "\n",
    "Thus, if the departure time of bus line 7 is orange, $m_0=0$, meanwhile if it were indigo, $m_0=1$.\n",
    "\n",
    "Example<br>\n",
    "the vector $M = [m_0, m_1, m_2,m_3,m_4]$ would be $M=[1,0,0,1,0]$ for the cut in the previous section.\n",
    "\n",
    "## Cost of a cut\n",
    "To find the maxcut, we define the function $g(i,j)$ which takes as input the indices of the two nodes at each end of an edge, and returns $+1$ if $m_i=m_j$, or $-1$ if $m_i \\neq m_j$. We denote the set of all edges by the letter $L$.\n",
    "\n",
    "$L = \\{ (0,1), (0,3), (0,4),(1,2),(1,4),(2,3) \\}$<br>\n",
    "$g(0,3)=g(1,2)=g(1,4)=+1$<br>\n",
    "$g(0,1)=g(0,4)=g(2,3)=-1$\n",
    "\n",
    "The maximal cut is obtained by minimizing the function $G=\\sum_{i,j\\in L}g(i,j)$.\n",
    "\n",
    "\n",
    "## Brute force method\n",
    "Try all the configurations and choosing the best one.\n",
    "\n",
    "For a problem with 5 nodes\n",
    "> $2^5=32$ configurations\n",
    "\n",
    "For a problem with 100 nodes\n",
    "> $2^{100} \\sim 10^{30}$ configurations (that's 1267650600228229401496703205376 configurations...)\n",
    "\n",
    "## Quantum cost function\n",
    "We associate a qubit to each node and we prepare the state $|\\psi\\rangle = |q_4q_3q_2q_1q_0\\rangle$ where $q_i \\in \\{ 0,1\\}$.<br>\n",
    "Thus we can implement the cost function $G=\\sum_{i,j\\in L}g(i,j) = \\langle H \\rangle_{\\psi}=\\sum_{i,j\\in L}\\langle Z_i Z_j \\rangle_{\\psi}$."
   ]
  },
  {
   "cell_type": "code",
   "execution_count": 51,
   "metadata": {
    "ExecuteTime": {
     "end_time": "2025-05-29T18:33:19.269267Z",
     "start_time": "2025-05-29T18:33:19.262633Z"
    }
   },
   "outputs": [
    {
     "name": "stdout",
     "output_type": "stream",
     "text": [
      "SparsePauliOp(['IIIZZ', 'IZIIZ', 'ZIIIZ', 'IIZZI', 'ZIIZI', 'IZZII'],\n",
      "              coeffs=[1.+0.j, 1.+0.j, 1.+0.j, 1.+0.j, 1.+0.j, 1.+0.j])\n"
     ]
    }
   ],
   "source": [
    "H = SparsePauliOp(\n",
    "        data=[\"IIIZZ\",\n",
    "              \"IZIIZ\",\n",
    "              \"ZIIIZ\",\n",
    "              \"IIZZI\",\n",
    "              \"ZIIZI\",\n",
    "              \"IZZII\"]\n",
    "                )\n",
    "print(H)"
   ]
  },
  {
   "cell_type": "code",
   "execution_count": 52,
   "metadata": {
    "ExecuteTime": {
     "end_time": "2025-05-29T18:33:19.965330Z",
     "start_time": "2025-05-29T18:33:19.348517Z"
    }
   },
   "outputs": [
    {
     "name": "stdout",
     "output_type": "stream",
     "text": [
      "Average value 0.0000\n"
     ]
    },
    {
     "data": {
      "image/png": "[encoded data removed]",
      "text/plain": [
       "<Figure size 101.943x225.75 with 1 Axes>"
      ]
     },
     "execution_count": 52,
     "metadata": {},
     "output_type": "execute_result"
    }
   ],
   "source": [
    "# Test the configuration |psi> = |01001> (bus line 7 and 11 in the same departure group)\n",
    "qc = QuantumCircuit(5)\n",
    "qc.x(0)\n",
    "qc.x(3)\n",
    "\n",
    "simulator = AerSimulator()\n",
    "sampler = Sampler(simulator)\n",
    "estimator = Estimator(simulator)\n",
    "\n",
    "result = estimator.run([(qc, H)]).result()\n",
    "\n",
    "print(f\"Average value {result[0].data.evs:.4f}\")\n",
    "qc.draw('mpl', scale=0.5)"
   ]
  },
  {
   "cell_type": "code",
   "execution_count": 53,
   "metadata": {
    "ExecuteTime": {
     "end_time": "2025-05-29T18:33:20.019188Z",
     "start_time": "2025-05-29T18:33:19.976290Z"
    }
   },
   "outputs": [
    {
     "name": "stdout",
     "output_type": "stream",
     "text": [
      "Average value 2.0000\n"
     ]
    },
    {
     "data": {
      "image/png": "[encoded data removed]",
      "text/plain": [
       "<Figure size 101.943x225.75 with 1 Axes>"
      ]
     },
     "execution_count": 53,
     "metadata": {},
     "output_type": "execute_result"
    }
   ],
   "source": [
    "# Test the configuration |psi> = |01000> (every bus lines but bus line 11 are in the same departure group)\n",
    "qc = QuantumCircuit(5)\n",
    "qc.x(3)\n",
    "\n",
    "result = estimator.run([(qc, H)]).result()\n",
    "\n",
    "print(f\"Average value {result[0].data.evs:.4f}\")\n",
    "qc.draw('mpl', scale=0.5)"
   ]
  },
  {
   "cell_type": "code",
   "execution_count": 54,
   "metadata": {
    "ExecuteTime": {
     "end_time": "2025-05-29T18:33:20.088540Z",
     "start_time": "2025-05-29T18:33:20.029358Z"
    }
   },
   "outputs": [
    {
     "name": "stdout",
     "output_type": "stream",
     "text": [
      "Average value 1.0127\n"
     ]
    },
    {
     "data": {
      "image/png": "[encoded data removed]",
      "text/plain": [
       "<Figure size 101.943x225.75 with 1 Axes>"
      ]
     },
     "execution_count": 54,
     "metadata": {},
     "output_type": "execute_result"
    }
   ],
   "source": [
    "# Test the configuration |psi> = 1/sqrt(2)(|01001> + |01000>)\n",
    "# (The solutions where\n",
    "# 1. bus line 11 is one group\n",
    "# 2. and the one where bus line 7 and 11 form a group\n",
    "# are both equally good solutions)\n",
    "\n",
    "qc = QuantumCircuit(5)\n",
    "qc.h(0)\n",
    "qc.x(3)\n",
    "\n",
    "result = estimator.run([(qc, H)]).result()\n",
    "\n",
    "print(f\"Average value {result[0].data.evs:.4f}\")\n",
    "qc.draw('mpl', scale=0.5)\n"
   ]
  },
  {
   "cell_type": "markdown",
   "metadata": {},
   "source": [
    "\n",
    "## Quantum parallellism\n",
    "At the end of the day, we want to find the circuit that prepares the quantum state which minimizes the average value of the cost function $G$.\n",
    "\n",
    "<!-- <p align=\"center\">\n",
    "<img src=\"figures/img_probleme_1.jpg\" alt=\"probleme 1\" width=\"150\"/>\n",
    "</p>\n",
    "<p align=\"center\">\n",
    "<img src=\"figures/img_probleme_1.jpg\" alt=\"probleme 1\" width=\"150\"/>\n",
    "</p>\n",
    "<p align=\"center\">\n",
    "<img src=\"figures/img_probleme_1.jpg\" alt=\"probleme 1\" width=\"150\"/>\n",
    "</p> -->\n",
    "\n",
    "<table><tr>\n",
    "<td> \n",
    "  <p align=\"center\" style=\"padding: 10px\">\n",
    "    <img alt=\"Forwarding\" src=\"figures/qparallel1.png\" width=\"420\">\n",
    "    <br>\n",
    "  </p> \n",
    "</td>\n",
    "<td> \n",
    "  <p align=\"center\">\n",
    "    <img alt=\"Routing\" src=\"figures/qparallel2.png\" width=\"420\">\n",
    "    <br>\n",
    "  </p> \n",
    "</td>\n",
    "<td> \n",
    "  <p align=\"center\">\n",
    "    <img alt=\"Routing\" src=\"figures/qparallel3.png\" width=\"420\">\n",
    "    <br>\n",
    "  </p> \n",
    "</td>\n",
    "</tr></table>\n",
    "\n",
    "\n",
    "## Display the graph with Python (optional)\n",
    "The Networkx library is used to visualize the graph corresponding to the problem. The given code can also be used for other problems or for your own explorations!\n",
    "You can also add weights to edges and display it on the visualization, but these options are disabled by default here.\n",
    "\n",
    "The visualization of the problem graph is optional here, but it may help you in to solve this problem, or you can use it for the main challenge!"
   ]
  },
  {
   "cell_type": "code",
   "execution_count": 55,
   "metadata": {
    "ExecuteTime": {
     "end_time": "2025-05-29T18:33:20.138545Z",
     "start_time": "2025-05-29T18:33:20.099559Z"
    }
   },
   "outputs": [
    {
     "data": {
      "image/png": "[encoded data removed]",
      "text/plain": [
       "<Figure size 640x480 with 1 Axes>"
      ]
     },
     "metadata": {},
     "output_type": "display_data"
    }
   ],
   "source": [
    "# Instanciate a graph with Networkx\n",
    "G = nx.Graph()\n",
    "# Add the graph edges and weights, as needed. A list of the form [(node_A, node_B, edge_weight_AB), ...].\n",
    "G.add_weighted_edges_from([(0, 1, 1), (1, 2, 1), (2, 3, 1), (3, 0, 1), (0, 4, 1), (4, 1, 1)])\n",
    "# Define the positions of each nodes to draw the graph\n",
    "pos = {0: (-1, 0), 1: (1, 0), 2: (1, -1), 3: (-1, -1), 4: (0, 1)}\n",
    "# Define visualization options\n",
    "options = {\"node_size\": 1000, \"node_color\": \"white\", \"edgecolors\": \"black\", \"linewidths\": 2, \"width\": 2}\n",
    "# Draw graph\n",
    "nx.draw_networkx(G, pos, **options)\n",
    "# Draw graph with each edge weight if needed\n",
    "# nx.draw_networkx_edge_labels(G, pos, nx.get_edge_attributes(G, \"weight\"))\n",
    "\n",
    "# Display graph visualization\n",
    "ax = plt.gca()\n",
    "ax.margins(0.20)\n",
    "plt.axis(\"off\")\n",
    "plt.show()"
   ]
  },
  {
   "cell_type": "markdown",
   "metadata": {},
   "source": [
    "# Cost function\n",
    "Before attempting to solve the problem with QAOA, we first need to define the cost function representing our optimization goal.\n",
    "\n",
    "## Qubits and average values\n",
    "\n",
    "The bus distribution problem must be formulated in terms of qubits and quantum logic gates in order to be solved with a quantum algorithm like **QAOA**. Each node in the graph represents a bus, and we will use one qubit to encode each node. Thus, the number of qubits in our circuit corresponds to the number of nodes (or buses!) in our graph.\n",
    "\n",
    "To capture the relationships between nodes, we define the interactions between qubits using edge information. For example, a Pauli string such as $IIIZZ$ encodes an edge between qubits (nodes) 0 and 1, where each Pauli matrix $Z_i$ corresponds to a measurement on a qubit $i$.\n",
    "\n",
    "When qubits 0 and 1 are in the same group, the observable $IIIZZ$ associated to this edge will take the value $1$. If the two qubits are in different groups, the observable will take the value $-1$. This encoding lets us know if two nodes (buses) are partitioned correctly.\n",
    "\n",
    "## Writing the Hamiltonian\n",
    "\n",
    "The Hamiltonian representing the problem's cost function, is expressed as a sum of Pauli strings associated to each pair of qubits connected by an edge in the graph. For two qubits $i$ and $j$ connected by an edge, the interaction is modeled by a term $Z_i Z_j$.\n",
    "\n",
    "Hence, the Hamiltonian for the whole graph is:\n",
    "\n",
    "$$\n",
    "H = \\sum_{(i,j) \\in E} Z_i Z_j\n",
    "$$\n",
    "\n",
    "where $E$ is the set containing all the edges in the graph. This sum covers all pairs of nodes $i$ and $j$ sharing an edge i.e. the set of buses sharing a common stop at the very least.\n",
    "> The goal is to minimize this function to partition optimally the buses into two groups.\n",
    "\n",
    "**Note :** This is equivalent to a simple Max-Cut problem.\n",
    "\n",
    "We use the structure `SparsePauliOp` to instantiate a Hamiltonian."
   ]
  },
  {
   "cell_type": "code",
   "execution_count": 56,
   "metadata": {
    "ExecuteTime": {
     "end_time": "2025-05-29T18:33:20.183014Z",
     "start_time": "2025-05-29T18:33:20.179545Z"
    }
   },
   "outputs": [
    {
     "name": "stdout",
     "output_type": "stream",
     "text": [
      "SparsePauliOp(['IIIZZ', 'IIZZI', 'IZZII', 'IZIIZ', 'ZIIIZ', 'ZIIZI'],\n",
      "              coeffs=[1.+0.j, 1.+0.j, 1.+0.j, 1.+0.j, 1.+0.j, 1.+0.j])\n"
     ]
    }
   ],
   "source": [
    "# Instantiate a SparsePauliOp as a sum of Pauli strings each mutliplied by a specific coefficient (here 1).\n",
    "H = SparsePauliOp.from_list(\n",
    "    [(\"IIIZZ\", 1.0), (\"IIZZI\", 1.0), (\"IZZII\", 1.0), (\"IZIIZ\", 1.0), (\"ZIIIZ\", 1.0), (\"ZIIZI\", 1.0)]\n",
    ")\n",
    "#Display the SparsePauliOp\n",
    "print(H)"
   ]
  },
  {
   "cell_type": "markdown",
   "metadata": {},
   "source": [
    "# Classical verification\n",
    "\n",
    "The problem can be solved using matrix representation. Given the small size of the problem, it is possible to diagonalize its matrix to uncover the exact solution. You can use this diagonalization method to verify the validity of your quantum solution.\n",
    "\n",
    "**Note:** You can explore the optional `problemes_utils.py` file, which contains useful methods to help you: compute the exact solution (as shown below), evaluate the score of a given solution, and save your results."
   ]
  },
  {
   "cell_type": "code",
   "execution_count": 57,
   "metadata": {
    "ExecuteTime": {
     "end_time": "2025-05-29T18:33:20.208919Z",
     "start_time": "2025-05-29T18:33:20.204838Z"
    }
   },
   "outputs": [],
   "source": [
    "def compute_exact_sol(hamiltonian: SparsePauliOp) -> tuple[float, list[str]]:\n",
    "    \"\"\" Classical computation of the inputted Hamiltonian's solutions.\n",
    "        Done by diagonalizing the Hamiltonian's matrix representation.\n",
    "\n",
    "    Args:\n",
    "        Hamiltonian (SparsePauliOp): Hamiltonian to diagonalize, expressed as a sum of Pauli strings.\n",
    "\n",
    "    Returns:\n",
    "        tuple[float, list[str]]:\n",
    "            - minimal cost obtained (float)\n",
    "            - List of the binary solutions associated to the minimal cost\n",
    "    \"\"\"\n",
    "    # Write the Hamiltonian as a matrix\n",
    "    mat_hamiltonian = np.array(hamiltonian.to_matrix())\n",
    "    # Diagonalize the matrix to extract the eigenvectors and eigenvalues\n",
    "    eigenvalues, eigenvects = np.linalg.eig(mat_hamiltonian)\n",
    "\n",
    "    # Indices associated to the minimal eigenvalues\n",
    "    min_eigenval = np.where(eigenvalues == np.min(eigenvalues))[0]\n",
    "    # Minimal solutions associated to the minimal eigenvalues\n",
    "    binary_sols = [bin(idx).lstrip(\"-0b\").zfill(hamiltonian.num_qubits) for idx in min_eigenval]\n",
    "\n",
    "    # Cost and binary strings of the best solutions\n",
    "    return eigenvalues[min_eigenval][0].real, binary_sols"
   ]
  },
  {
   "cell_type": "code",
   "execution_count": 58,
   "metadata": {
    "ExecuteTime": {
     "end_time": "2025-05-29T18:33:20.231860Z",
     "start_time": "2025-05-29T18:33:20.226831Z"
    }
   },
   "outputs": [],
   "source": [
    "def brute_force_solve(hamiltonian: SparsePauliOp) -> tuple[float, list[str]]:\n",
    "    # Check if the Hamiltonian we found gives the expected solution\n",
    "    minimal_cost, binary_sols = compute_exact_sol(hamiltonian)\n",
    "\n",
    "    # Display the minimal cost we obtained\n",
    "    print(\"Minimal cost : \", minimal_cost)\n",
    "    # Display the binary solutions (read right to left, from qubit 0 to qubit 4)\n",
    "    for i, sol in enumerate(binary_sols):\n",
    "        print(\"Minimal cost solution {idx} : {solution}\".format(idx=i, solution=sol))"
   ]
  },
  {
   "cell_type": "code",
   "execution_count": 59,
   "metadata": {},
   "outputs": [
    {
     "name": "stdout",
     "output_type": "stream",
     "text": [
      "Minimal cost :  -4.0\n",
      "Minimal cost solution 0 : 00101\n",
      "Minimal cost solution 1 : 01010\n",
      "Minimal cost solution 2 : 10101\n",
      "Minimal cost solution 3 : 11010\n"
     ]
    }
   ],
   "source": [
    "brute_force_solve(H)"
   ]
  },
  {
   "cell_type": "markdown",
   "metadata": {},
   "source": [
    "# Fine-tuning QAOA\n",
    "QAOA (Quantum Approximate Optimization Algorithm) is a quantum variational algorithm, used here to solve our combinatorial optimization problem. \n",
    "\n",
    "Your goal is to fine-tune the hyperparameters of your hybrid algorithm to solve the bus fleet organisation problem efficiently. The hyperparameters you need to adjust are:\n",
    "\n",
    "- The number of layers in the QAOA circuit.\n",
    "\n",
    "- The QAOA circuit parameters (i.e. the rotation angles).\n",
    "\n",
    "- The options of the classical optimizer used to update QAOA's parameters during the optimization loop.\n",
    "\n",
    "## QAOA Circuit\n",
    "In the following cells, you will find the proposed structure to build the QAOA circuit based on the problem's Hamiltonian. Experiment with the number of layers to improve the approximation of the solution.\n",
    "\n",
    "Note: Too small a number of layers may result in unstable solutions, meanwhile too large a number of layers will considerably increase execution time. Ideally, you need to strike a balance which will efficiently amplify the solutions without needlessly complexifying the simulation (i.e. Aim for a reasonable execution time on a laptop)."
   ]
  },
  {
   "cell_type": "code",
   "execution_count": 60,
   "metadata": {
    "ExecuteTime": {
     "end_time": "2025-05-29T18:33:21.612763Z",
     "start_time": "2025-05-29T18:33:20.252004Z"
    }
   },
   "outputs": [],
   "source": [
    "def build_qaoa_circuit(hamiltonian: SparsePauliOp, nb_layers: int) -> QuantumCircuit:\n",
    "    \"\"\" Build a QAOA circuit for the inputted Hamiltonian.\n",
    "\n",
    "    Args:\n",
    "        hamiltonian (SparsePauliOp): Hamiltonian to optimize, expressed as a sum of Pauli strings.\n",
    "        nb_layers (int): Number of layers (repetitions) for the QAOA circuit.\n",
    "\n",
    "    Returns:\n",
    "        QuantumCircuit: QAOA circuit built for the inputted Hamiltonian.\n",
    "    \"\"\"\n",
    "    # Instantiate the QAOA circuit with Qiskit's implementation\n",
    "    qaoa_circuit = QAOAAnsatz(hamiltonian, reps=nb_layers)\n",
    "    return qaoa_circuit"
   ]
  },
  {
   "cell_type": "code",
   "execution_count": 61,
   "metadata": {},
   "outputs": [
    {
     "data": {
      "image/png": "[encoded data removed]",
      "text/plain": [
       "<Figure size 2210.55x1454.83 with 1 Axes>"
      ]
     },
     "execution_count": 61,
     "metadata": {},
     "output_type": "execute_result"
    }
   ],
   "source": [
    "# Display the QAOA circuit if you want :-)\n",
    "build_qaoa_circuit(H, 4).decompose(reps=1).draw(output=\"mpl\", style=\"iqp\")"
   ]
  },
  {
   "cell_type": "code",
   "execution_count": 62,
   "metadata": {},
   "outputs": [],
   "source": [
    "# Define a simulator to compute average values\n",
    "backend = AerSimulator()  # Can be changed for different simulators or a real quantum backend, if desired\n",
    "estimator = Estimator(mode=backend)\n",
    "\n",
    "# Define a transpilation tool needed by Qiskit to run the simulation.\n",
    "pm = generate_preset_pass_manager(backend=backend, optimization_level=1)"
   ]
  },
  {
   "cell_type": "code",
   "execution_count": 63,
   "metadata": {
    "ExecuteTime": {
     "end_time": "2025-05-29T18:33:21.757672Z",
     "start_time": "2025-05-29T18:33:21.754674Z"
    }
   },
   "outputs": [],
   "source": [
    "# Define the classical cost function to optimize\n",
    "def cost_function(\n",
    "    params: list[complex], estimator: Estimator, circuit: QuantumCircuit, hamiltonian: SparsePauliOp\n",
    ") -> float:\n",
    "    \"\"\"\n",
    "    Cost function that computes the average value of an observable ('hamiltonian') for a given state ('circuit').\n",
    "    This average value represents the cost function described by the input Hamiltonian. Also, the\n",
    "    parametrized circuit and its parameters are defined in the 'params' vector.\n",
    "    Everything is evaluated by the estimator.\n",
    "\n",
    "    Args:\n",
    "        params (list[complex]): List of parameters to be inserted in 'circuit'.\n",
    "        estimator (Estimator): Estimates the desired average values.\n",
    "        circuit (QuantumCircuit): QAOA's parametrized circuit.\n",
    "        hamiltonian (SparsePauliOp): Observable associated to the problem's cost function\n",
    "\n",
    "    Returns:\n",
    "        float: Cost associated to the input parameters.\n",
    "    \"\"\"\n",
    "    isa_psi = pm.run(circuit)\n",
    "    isa_observables = hamiltonian.apply_layout(isa_psi.layout)\n",
    "\n",
    "    job = estimator.run([(isa_psi, isa_observables, params)])\n",
    "    cost = job.result()[0].data.evs\n",
    "    return cost"
   ]
  },
  {
   "cell_type": "markdown",
   "metadata": {},
   "source": [
    "## QAOA circuit parameters\n",
    "\n",
    "The following cell enables the optimization of the classical parameters (rotation angles) of QAOA circuit. These parameters are initialized with a vector of zeros, but it might be a *(very)* good idea to explore other initialization schemes to improve optimization results.\n",
    "\n",
    "### Classical optimizer\n",
    "The **Cobyla** optimizer is proposed to update the parameters by minimizing the cost function discussed previously. You are free to modify Cobyla's options or try another optimizer you find more appropriate.\n",
    "\n",
    "Some gradient-free optimizers are implemented directly in `Qiskit`."
   ]
  },
  {
   "cell_type": "code",
   "execution_count": null,
   "metadata": {
    "ExecuteTime": {
     "end_time": "2025-05-29T18:33:22.050186Z",
     "start_time": "2025-05-29T18:33:21.772803Z"
    }
   },
   "outputs": [],
   "source": [
    "def optimize_qaoa_circuit(\n",
    "    hamiltonian: SparsePauliOp, nb_layers: int, params_init_fn\n",
    ") -> tuple[float, list[complex]]:\n",
    "    \"\"\"\n",
    "    Optimize the QAOA circuit for the inputted Hamiltonian using a classical optimizer.\n",
    "\n",
    "    Args:\n",
    "        hamiltonian (SparsePauliOp): Hamiltonian to optimize, expressed as a sum of Pauli strings.\n",
    "        nb_layers (int): Number of layers (repetitions) for the QAOA circuit.\n",
    "        estimator (Estimator): Estimates the desired average values.\n",
    "\n",
    "    Returns:\n",
    "        tuple[float, list[complex]]:\n",
    "            - Optimal cost found (float)\n",
    "            - Optimal parameters found (list[complex])\n",
    "    \"\"\"\n",
    "    # Build the QAOA circuit\n",
    "    circuit_qaoa = build_qaoa_circuit(hamiltonian, nb_layers)\n",
    "\n",
    "    # Initialize the parameters of the QAOA circuit\n",
    "    params_init = params_init_fn(circuit_qaoa.num_parameters)\n",
    "\n",
    "    # Classical optimization of QAOA circuit using Scipy\n",
    "    res_opt = minimize(\n",
    "        cost_function, params_init, args=(estimator, circuit_qaoa, hamiltonian), method=\"COBYLA\"\n",
    "    )  # , options={\"tol\": 1e-14}\n",
    "\n",
    "    # Information extraction following optimization\n",
    "    cost_opt = res_opt.fun  # Optimal cost evaluated\n",
    "    params_opt = res_opt.x  # Optimal parameters evaluated\n",
    "\n",
    "    print(\"Optimal cost found :\", cost_opt)\n",
    "    print(\"Optimal parameters found :\", params_opt)\n",
    "\n",
    "    return cost_opt, params_opt"
   ]
  },
  {
   "cell_type": "code",
   "execution_count": 72,
   "metadata": {},
   "outputs": [
    {
     "name": "stdout",
     "output_type": "stream",
     "text": [
      "Optimal cost found : -0.99462890625\n",
      "Optimal parameters found : [ 1.01888494 -1.01517171]\n"
     ]
    }
   ],
   "source": [
    "params_init_fn = lambda nb_params: np.zeros(nb_params)\n",
    "nb_layers = 1\n",
    "\n",
    "cost_opt, params_opt = optimize_qaoa_circuit(\n",
    "    hamiltonian=H,\n",
    "    nb_layers=nb_layers,\n",
    "    params_init_fn=params_init_fn\n",
    ")"
   ]
  },
  {
   "cell_type": "markdown",
   "metadata": {},
   "source": [
    "# Identifying the Solutions\n",
    "\n",
    "After determining an optimal number of layers and an optimal vector of parameters, a **sampler** is used to generate the probability distribution associated to this optimal QAOA circuit instance."
   ]
  },
  {
   "cell_type": "code",
   "execution_count": 84,
   "metadata": {
    "ExecuteTime": {
     "end_time": "2025-05-29T18:33:22.146353Z",
     "start_time": "2025-05-29T18:33:22.065207Z"
    }
   },
   "outputs": [],
   "source": [
    "def plot_qaoa_distribution(circuit_qaoa, params_opt, backend):\n",
    "    sampler = Sampler(mode=backend)\n",
    "    \n",
    "    # Prepare a copy of the circuit, decompose, and add measurement\n",
    "    circuit_copy = circuit_qaoa.decompose(reps=2).copy()\n",
    "    circuit_copy.measure_all()\n",
    "    circuit_copy.draw()\n",
    "    \n",
    "    # Run sampler to obtain counts\n",
    "    counts = sampler.run([(circuit_copy, params_opt)]).result()[0].data.meas.get_counts()\n",
    "    \n",
    "    return counts"
   ]
  },
  {
   "cell_type": "markdown",
   "metadata": {},
   "source": [
    "## Goal: Find all the solutions by fine-tuning QAOA\n",
    "Your mission is to find the best solutions to the Bus Fleet Problem by optimizing the hyperparameters of the QAOA circuit.\n",
    "\n",
    "You are given the QAOA solution pipeline, but you must find the best circuit parameters, and the optimal number of circuit layers, in order to find the optimal solutions.\n",
    "\n",
    "### Evaluation\n",
    "1. Show a mentor the solutions you were able to find with your optmized QAOA circuit\n",
    "\n",
    "2. Run your algorithm in front of a mentor or show cell outputs demonstrating that your code ran correctly"
   ]
  },
  {
   "cell_type": "markdown",
   "metadata": {},
   "source": [
    "********"
   ]
  },
  {
   "cell_type": "code",
   "execution_count": 81,
   "metadata": {},
   "outputs": [
    {
     "name": "stdout",
     "output_type": "stream",
     "text": [
      "Optimal cost found : -3.21484375\n",
      "Optimal parameters found : [6.13776291 5.74271426 5.8639679  3.2103041  4.35796192 5.35597637\n",
      " 3.61190788 3.00141539]\n"
     ]
    }
   ],
   "source": [
    "H = SparsePauliOp.from_list(\n",
    "    [(\"IIIZZ\", 1.0), (\"IIZZI\", 1.0), (\"IZZII\", 1.0), (\"IZIIZ\", 1.0), (\"ZIIIZ\", 1.0), (\"ZIIZI\", 1.0)]\n",
    ") # Hamiltonian to optimize\n",
    "\n",
    "nb_layers = 4  # Number of layers for the QAOA circuit\n",
    "\n",
    "# Initialize parameters for the QAOA circuit uniform distribution\n",
    "params_init_fn = lambda n_params: np.random.uniform(0, 2 * np.pi, n_params)\n",
    "\n",
    "cost_opt, params_opt = optimize_qaoa_circuit(\n",
    "    hamiltonian=H,\n",
    "    nb_layers=nb_layers,\n",
    "    params_init_fn=params_init_fn\n",
    ")"
   ]
  },
  {
   "cell_type": "code",
   "execution_count": 82,
   "metadata": {},
   "outputs": [
    {
     "name": "stdout",
     "output_type": "stream",
     "text": [
      "Minimal cost :  -4.0\n",
      "Minimal cost solution 0 : 00101\n",
      "Minimal cost solution 1 : 01010\n",
      "Minimal cost solution 2 : 10101\n",
      "Minimal cost solution 3 : 11010\n"
     ]
    }
   ],
   "source": [
    "brute_force_solve(H)"
   ]
  },
  {
   "cell_type": "code",
   "execution_count": 96,
   "metadata": {},
   "outputs": [
    {
     "name": "stdout",
     "output_type": "stream",
     "text": [
      "[('00101', 185),\n",
      " ('11010', 178),\n",
      " ('10101', 169),\n",
      " ('01010', 163),\n",
      " ('11000', 64),\n",
      " ('01011', 62),\n",
      " ('10100', 57),\n",
      " ('00111', 56),\n",
      " ('11100', 23),\n",
      " ('00011', 18),\n",
      " ('10010', 6),\n",
      " ('01110', 6),\n",
      " ('01100', 6),\n",
      " ('10011', 6),\n",
      " ('10001', 4),\n",
      " ('10000', 3),\n",
      " ('01101', 3),\n",
      " ('01000', 2),\n",
      " ('11111', 2),\n",
      " ('01111', 2),\n",
      " ('01001', 2),\n",
      " ('11001', 2),\n",
      " ('10110', 1),\n",
      " ('11011', 1),\n",
      " ('00110', 1),\n",
      " ('00010', 1),\n",
      " ('10111', 1)]\n"
     ]
    }
   ],
   "source": [
    "counts = plot_qaoa_distribution(build_qaoa_circuit(H, nb_layers), params_opt, AerSimulator())\n",
    "# Plot the histogram of counts\n",
    "\n",
    "# pprint the counts\n",
    "from pprint import pprint\n",
    "pprint(sorted(counts.items(), key=lambda x: x[1], reverse=True))"
   ]
  },
  {
   "cell_type": "code",
   "execution_count": 91,
   "metadata": {},
   "outputs": [
    {
     "data": {
      "image/png": "[encoded data removed]",
      "text/plain": [
       "<Figure size 640x480 with 1 Axes>"
      ]
     },
     "execution_count": 91,
     "metadata": {},
     "output_type": "execute_result"
    }
   ],
   "source": [
    "plot_histogram(counts)"
   ]
  },
  {
   "cell_type": "markdown",
   "metadata": {},
   "source": [
    "# Problem 1"
   ]
  },
  {
   "cell_type": "code",
   "execution_count": 97,
   "metadata": {},
   "outputs": [
    {
     "name": "stdout",
     "output_type": "stream",
     "text": [
      "SparsePauliOp(['ZZIII', 'ZIIZI', 'ZIIIZ', 'IZZII', 'IZIIZ', 'IIZZI'],\n",
      "              coeffs=[10.+0.j, 11.+0.j, 13.+0.j, 11.+0.j, 10.+0.j,  8.+0.j])\n"
     ]
    }
   ],
   "source": [
    "from qiskit.quantum_info import SparsePauliOp\n",
    "\n",
    "# Define the non-zero weights between qubits (i<j):\n",
    "edges = {\n",
    "    (0, 1): 10, (0, 3): 11, (0, 4): 13,\n",
    "    (1, 2): 11, (1, 4): 10,\n",
    "    (2, 3):  8,\n",
    "}\n",
    "\n",
    "pauli_strings = []\n",
    "coeffs = []\n",
    "n = 5  # number of buses\n",
    "\n",
    "for (i, j), w in edges.items():\n",
    "    # build a length-n string of I’s with Z at positions i and j\n",
    "    pauli = ['I'] * n\n",
    "    pauli[i] = 'Z'\n",
    "    pauli[j] = 'Z'\n",
    "    pauli_strings.append(''.join(pauli))\n",
    "    coeffs.append(w)\n",
    "\n",
    "# Construct the operator\n",
    "op = SparsePauliOp(pauli_strings, coeffs)\n",
    "\n",
    "print(op)\n"
   ]
  },
  {
   "cell_type": "code",
   "execution_count": 98,
   "metadata": {},
   "outputs": [
    {
     "name": "stdout",
     "output_type": "stream",
     "text": [
      "Optimal cost found : -1.99267578125\n",
      "Optimal parameters found : [0.65726725 5.55474384 3.03436436 5.68938148 2.267041   3.81933859\n",
      " 6.00871717 0.12206839]\n"
     ]
    }
   ],
   "source": [
    "nb_layers = 4  # Number of layers for the QAOA circuit\n",
    "\n",
    "# Initialize parameters for the QAOA circuit uniform distribution\n",
    "params_init_fn = lambda n_params: np.random.uniform(0, 2 * np.pi, n_params)\n",
    "\n",
    "cost_opt, params_opt = optimize_qaoa_circuit(\n",
    "    hamiltonian=op,\n",
    "    nb_layers=nb_layers,\n",
    "    params_init_fn=params_init_fn\n",
    ")"
   ]
  },
  {
   "cell_type": "code",
   "execution_count": 99,
   "metadata": {},
   "outputs": [
    {
     "name": "stdout",
     "output_type": "stream",
     "text": [
      "Minimal cost :  -43.0\n",
      "Minimal cost solution 0 : 01011\n",
      "Minimal cost solution 1 : 10100\n"
     ]
    }
   ],
   "source": [
    "brute_force_solve(op)"
   ]
  },
  {
   "cell_type": "code",
   "execution_count": 100,
   "metadata": {},
   "outputs": [
    {
     "name": "stdout",
     "output_type": "stream",
     "text": [
      "[('11000', 164),\n",
      " ('00101', 138),\n",
      " ('00111', 137),\n",
      " ('11010', 128),\n",
      " ('11100', 64),\n",
      " ('00011', 64),\n",
      " ('10010', 36),\n",
      " ('10101', 33),\n",
      " ('10110', 33),\n",
      " ('01010', 24),\n",
      " ('10100', 23),\n",
      " ('00001', 22),\n",
      " ('01101', 21),\n",
      " ('01011', 18),\n",
      " ('01000', 17),\n",
      " ('10111', 15),\n",
      " ('01001', 15),\n",
      " ('11110', 15),\n",
      " ('11111', 11),\n",
      " ('10001', 10),\n",
      " ('00000', 8),\n",
      " ('01110', 7),\n",
      " ('01111', 7),\n",
      " ('11011', 4),\n",
      " ('01100', 3),\n",
      " ('10011', 2),\n",
      " ('00010', 2),\n",
      " ('11101', 1),\n",
      " ('10000', 1),\n",
      " ('00100', 1)]\n"
     ]
    }
   ],
   "source": [
    "counts = plot_qaoa_distribution(build_qaoa_circuit(op, nb_layers), params_opt, AerSimulator())\n",
    "# Plot the histogram of counts\n",
    "\n",
    "# pprint the counts\n",
    "from pprint import pprint\n",
    "pprint(sorted(counts.items(), key=lambda x: x[1], reverse=True))"
   ]
  },
  {
   "cell_type": "code",
   "execution_count": 101,
   "metadata": {},
   "outputs": [
    {
     "data": {
      "image/png": "[encoded data removed]",
      "text/plain": [
       "<Figure size 640x480 with 1 Axes>"
      ]
     },
     "execution_count": 101,
     "metadata": {},
     "output_type": "execute_result"
    }
   ],
   "source": [
    "plot_histogram(counts)"
   ]
  }
 ],
 "metadata": {
  "kernelspec": {
   "display_name": "iqucodefest",
   "language": "python",
   "name": "python3"
  },
  "language_info": {
   "codemirror_mode": {
    "name": "ipython",
    "version": 3
   },
   "file_extension": ".py",
   "mimetype": "text/x-python",
   "name": "python",
   "nbconvert_exporter": "python",
   "pygments_lexer": "ipython3",
   "version": "3.13.5"
  }
 },
 "nbformat": 4,
 "nbformat_minor": 2
}
