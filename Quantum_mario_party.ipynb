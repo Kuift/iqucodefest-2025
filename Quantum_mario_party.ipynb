{
 "cells": [
  {
   "cell_type": "code",
   "execution_count": 7,
   "id": "98503fec",
   "metadata": {},
   "outputs": [],
   "source": [
    "from qiskit import QuantumCircuit, QuantumRegister, ClassicalRegister\n",
    "from qiskit_aer import AerSimulator\n",
    "from qiskit.visualization import plot_histogram, array_to_latex\n",
    "from qiskit.result import marginal_distribution\n",
    "from qiskit.circuit.library import UGate\n",
    "from numpy import pi, random"
   ]
  },
  {
   "cell_type": "code",
   "execution_count": 2,
   "id": "e180d5b8",
   "metadata": {},
   "outputs": [
    {
     "name": "stderr",
     "output_type": "stream",
     "text": [
      "ERROR:root:\n",
      "    Could not load requested Qt binding. Please ensure that\n",
      "    PyQt4 >= 4.7, PyQt5, PyQt6, PySide >= 1.0.3, PySide2, or\n",
      "    PySide6 is available, and only one is imported per session.\n",
      "\n",
      "    Currently-imported Qt library:                              None\n",
      "    PyQt5 available (requires QtCore, QtGui, QtSvg, QtWidgets): False\n",
      "    PyQt6 available (requires QtCore, QtGui, QtSvg, QtWidgets): False\n",
      "    PySide2 installed:                                          False\n",
      "    PySide6 installed:                                          False\n",
      "    Tried to load:                                              ['pyqtdefault', 'pyqt6', 'pyside6', 'pyqt5', 'pyside2']\n",
      "    \n"
     ]
    },
    {
     "ename": "ModuleNotFoundError",
     "evalue": "No module named 'pygame'",
     "output_type": "error",
     "traceback": [
      "\u001b[31m---------------------------------------------------------------------------\u001b[39m",
      "\u001b[31mModuleNotFoundError\u001b[39m                       Traceback (most recent call last)",
      "\u001b[36mCell\u001b[39m\u001b[36m \u001b[39m\u001b[32mIn[2]\u001b[39m\u001b[32m, line 2\u001b[39m\n\u001b[32m      1\u001b[39m get_ipython().run_line_magic(\u001b[33m'\u001b[39m\u001b[33mgui\u001b[39m\u001b[33m'\u001b[39m, \u001b[33m'\u001b[39m\u001b[33mqt\u001b[39m\u001b[33m'\u001b[39m)\n\u001b[32m----> \u001b[39m\u001b[32m2\u001b[39m \u001b[38;5;28;01mimport\u001b[39;00m\u001b[38;5;250m \u001b[39m\u001b[34;01mpygame\u001b[39;00m\n\u001b[32m      4\u001b[39m pygame.init()\n\u001b[32m      5\u001b[39m SIZE = WIDTH, HEIGHT = \u001b[32m320\u001b[39m, \u001b[32m240\u001b[39m\n",
      "\u001b[31mModuleNotFoundError\u001b[39m: No module named 'pygame'"
     ]
    }
   ],
   "source": [
    "%gui qt\n",
    "import pygame\n",
    "\n",
    "pygame.init()\n",
    "SIZE = WIDTH, HEIGHT = 320, 240\n",
    "screen = pygame.display.set_mode(SIZE)\n",
    "running = True\n",
    "\n",
    "while running:\n",
    "    for event in pygame.event.get():\n",
    "        if event.type == pygame.QUIT:\n",
    "            running = False\n",
    "    screen.fill((255, 255, 255)) # Fill with white\n",
    "    pygame.display.flip()\n",
    "\n",
    "pygame.quit()"
   ]
  }
 ],
 "metadata": {
  "kernelspec": {
   "display_name": "venv",
   "language": "python",
   "name": "python3"
  },
  "language_info": {
   "codemirror_mode": {
    "name": "ipython",
    "version": 3
   },
   "file_extension": ".py",
   "mimetype": "text/x-python",
   "name": "python",
   "nbconvert_exporter": "python",
   "pygments_lexer": "ipython3",
   "version": "3.12.6"
  }
 },
 "nbformat": 4,
 "nbformat_minor": 5
}
